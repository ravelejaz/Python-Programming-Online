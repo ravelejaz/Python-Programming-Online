{
 "cells": [
  {
   "cell_type": "code",
   "execution_count": 2,
   "metadata": {},
   "outputs": [
    {
     "ename": "IndentationError",
     "evalue": "unindent does not match any outer indentation level (<tokenize>, line 8)",
     "output_type": "error",
     "traceback": [
      "\u001b[1;36m  File \u001b[1;32m\"<tokenize>\"\u001b[1;36m, line \u001b[1;32m8\u001b[0m\n\u001b[1;33m    1) It provides a clear modular structure for programs which makes it good for defining abstract\u001b[0m\n\u001b[1;37m    ^\u001b[0m\n\u001b[1;31mIndentationError\u001b[0m\u001b[1;31m:\u001b[0m unindent does not match any outer indentation level\n"
     ]
    }
   ],
   "source": [
    "                        #ASSIGNMENT 6 \n",
    "#ANS1\n",
    "                Object-oriented programming (OOP) refers to a type of computer programming \n",
    "                in which programmers define not only the data type of a data structure, \n",
    "                but also the types of operations (functions) that can be applied to the data structure.\n",
    "#ANS2\n",
    "                BENEFITS OF OOP:\n",
    "        1) It provides a clear modular structure for programs which makes it good for defining abstract \n",
    "           datatypes in which implementation details are hidden.\n",
    "        2) Objects can also be reused within an across applications.\n",
    "        3) It makes software easier to maintain.\n",
    "        4) Reuse also enables faster development.\n",
    "#ANS3\n",
    "                FUNCTION\n",
    "                Function is a piece of code that is called by name.\n",
    "                It can be passed data to operate on.\n",
    "                and can optionally return data. \n",
    "                All data that is passed to a function is explicitly passed.\n",
    "                METHOD:\n",
    "                A method is a piece of code that is called by a name that is associated with an object.\n",
    "#ANS4\n",
    "            CLASS:\n",
    "             A class is a blueprint for creating objects.\n",
    "    \n",
    "            OBJECT:\n",
    "             An object is a component of a program that knows how to perform certain actions\n",
    "             and how to interact with other elements of the program. \n",
    "            \n",
    "            ATTRIBUTE:\n",
    "             An Attributes store information about the instance.   \n",
    "            \n",
    "            BEHAVIOR:\n",
    "            Behavior is the way objects can do anything to themselves or have anything done to them.\n",
    "\n",
    "                \n",
    "            \n"
   ]
  },
  {
   "cell_type": "code",
   "execution_count": 17,
   "metadata": {},
   "outputs": [],
   "source": [
    "#ANS5\n",
    "class Car:\n",
    "   def __init__(self, name, model, color):\n",
    "    self.name = name\n",
    "    self.model = model\n",
    "    self.color = color\n",
    "   def average(self,kilo):\n",
    "    print(\"kilometers per hours\".format(kilo))\n",
    "   def tank(self):\n",
    "    print(\"yes\")\n",
    "    \n",
    "car_1 = Car('audi','2017','black')"
   ]
  },
  {
   "cell_type": "code",
   "execution_count": null,
   "metadata": {},
   "outputs": [],
   "source": []
  },
  {
   "cell_type": "code",
   "execution_count": null,
   "metadata": {},
   "outputs": [],
   "source": []
  }
 ],
 "metadata": {
  "kernelspec": {
   "display_name": "Python 3",
   "language": "python",
   "name": "python3"
  },
  "language_info": {
   "codemirror_mode": {
    "name": "ipython",
    "version": 3
   },
   "file_extension": ".py",
   "mimetype": "text/x-python",
   "name": "python",
   "nbconvert_exporter": "python",
   "pygments_lexer": "ipython3",
   "version": "3.7.4"
  }
 },
 "nbformat": 4,
 "nbformat_minor": 2
}
