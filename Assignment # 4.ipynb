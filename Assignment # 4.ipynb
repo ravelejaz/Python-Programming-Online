{
 "cells": [
  {
   "cell_type": "code",
   "execution_count": 1,
   "metadata": {},
   "outputs": [
    {
     "name": "stdout",
     "output_type": "stream",
     "text": [
      "{'first_name': 'Ahsan', 'last_name': 'Mustang', 'age': 1964, 'city': 'Karachi'}\n",
      "{'first_name': 'Ahsan', 'last_name': 'Mustang', 'age': 1964, 'city': 'Karachi', 'qualification': 'masters'}\n",
      "{'first_name': 'Ahsan', 'last_name': 'Mustang', 'age': 1964, 'city': 'Karachi'}\n"
     ]
    }
   ],
   "source": [
    "                        #RAVEL_EJAZ      \n",
    "                        #ASSIGNMENT 4\n",
    "                #ANS1\n",
    "thisdict = {\n",
    "  \"first_name\": \"Ahsan\",\n",
    "  \"last_name\": \"Mustang\",\n",
    "  \"age\": 1964,\n",
    "    \"city\": \"Karachi\",\n",
    "}\n",
    "print(thisdict)\n",
    "thisdict[\"qualification\"] = \"masters\"\n",
    "print(thisdict)\n",
    "thisdict.pop(\"qualification\")\n",
    "print(thisdict)"
   ]
  },
  {
   "cell_type": "code",
   "execution_count": 2,
   "metadata": {},
   "outputs": [
    {
     "name": "stdout",
     "output_type": "stream",
     "text": [
      "{'Moscow', 'Beijng', 'Karachi'}\n",
      "{'country': 'Pakistan', 'population': '18 crore', 'fact': 'city of lights'}\n",
      "{'country': 'Russia', 'population': '14 crore', 'fact': 'Largest City'}\n",
      "{'country': 'China', 'population': '15 crore', 'fact': 'Same people everywhere'}\n"
     ]
    }
   ],
   "source": [
    "                #ANS2\n",
    "cities = {\n",
    "    \"Karachi\",\n",
    "    \"Moscow\",\n",
    "    \"Beijng\"\n",
    "}\n",
    "\n",
    "Karachi = {\n",
    "    \"country\" : \"Pakistan\",\n",
    "    \"population\" : \"18 crore\",\n",
    "    \"fact\" : \"city of lights\"\n",
    "}\n",
    "\n",
    "Moscow = {\n",
    "    \"country\" : \"Russia\",\n",
    "    \"population\" : \"14 crore\",\n",
    "    \"fact\" : \"Largest City\"\n",
    "}\n",
    "\n",
    "Beijing = {\n",
    "    \"country\" : \"China\",\n",
    "    \"population\" : \"15 crore\",\n",
    "    \"fact\" : \"Same people everywhere\"\n",
    "}\n",
    "print(cities)\n",
    "print(Karachi)\n",
    "print(Moscow)\n",
    "print(Beijing)"
   ]
  },
  {
   "cell_type": "code",
   "execution_count": null,
   "metadata": {},
   "outputs": [
    {
     "name": "stdout",
     "output_type": "stream",
     "text": [
      "\n",
      "Enter 'quit' when you are finished.\n",
      "Please enter your age: 12\n",
      "Your ticket is $15\n"
     ]
    }
   ],
   "source": [
    "            #ANS3\n",
    "prompt = \"\\nEnter 'quit' when you are finished.\"\n",
    "prompt += \"\\nPlease enter your age: \"\n",
    "\n",
    "\n",
    "while True:\n",
    "    age = input(prompt)\n",
    "    age = int(age)\n",
    "\n",
    "\n",
    "    if age == 'quit':\n",
    "        break\n",
    "    elif age <= 3:\n",
    "        print(\"Your ticket is free\")\n",
    "    elif 3 < age < 12:\n",
    "        print(\"Your ticket is $10\")\n",
    "    else:\n",
    "        print(\"Your ticket is $15\")"
   ]
  },
  {
   "cell_type": "code",
   "execution_count": null,
   "metadata": {},
   "outputs": [],
   "source": [
    "        #ANS4\n",
    "def favourite_book(string):\n",
    "    print(\"One of my favourite books is:\", string)\n",
    "favourite_book(\"harry\")\n",
    "# I DONT KNOW WHY OUTPUT IS NOT BEING DISPLAYED FROM HERE..."
   ]
  },
  {
   "cell_type": "code",
   "execution_count": null,
   "metadata": {},
   "outputs": [],
   "source": [
    "        #ANS5\n",
    "import random\n",
    "rand = random.randint(1,30)\n",
    "wow = int(input(\"Enter correct number\"))\n",
    "if wow != rand:\n",
    "    print(\"Try again\")\n",
    "elseif:\n",
    "    print(\"hint: Num between\")\n",
    "else:\n",
    "    print(\"correct\")\n",
    "    # I DONT KNOW WHY OUTPUT IS NOT BEING DISPLAYED FROM HERE..."
   ]
  },
  {
   "cell_type": "code",
   "execution_count": null,
   "metadata": {},
   "outputs": [],
   "source": [
    "                                           #THANKING YOU FOR YOUR DEDICATION"
   ]
  }
 ],
 "metadata": {
  "kernelspec": {
   "display_name": "Python 3",
   "language": "python",
   "name": "python3"
  },
  "language_info": {
   "codemirror_mode": {
    "name": "ipython",
    "version": 3
   },
   "file_extension": ".py",
   "mimetype": "text/x-python",
   "name": "python",
   "nbconvert_exporter": "python",
   "pygments_lexer": "ipython3",
   "version": "3.7.4"
  }
 },
 "nbformat": 4,
 "nbformat_minor": 2
}
